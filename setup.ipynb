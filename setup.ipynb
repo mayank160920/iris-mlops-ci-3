{
 "cells": [
  {
   "cell_type": "code",
   "execution_count": null,
   "id": "b983afc8",
   "metadata": {
    "tags": []
   },
   "outputs": [],
   "source": [
    "# Install dependencies from requirements.txt\n",
    "!pip3 install -r requirements.txt"
   ]
  },
  {
   "cell_type": "code",
   "execution_count": null,
   "id": "8e6b85db",
   "metadata": {
    "tags": []
   },
   "outputs": [],
   "source": [
    "# Initialize Git and DVC repositories\n",
    "!git init\n",
    "!dvc init"
   ]
  },
  {
   "cell_type": "code",
   "execution_count": null,
   "id": "16611d35-195b-4dfc-9bf5-da52568baf22",
   "metadata": {
    "tags": []
   },
   "outputs": [],
   "source": [
    "%%writefile .gitignore\n",
    ".venv/\n",
    "__pycache__/\n",
    "*.pyc\n",
    ".vscode/\n",
    ".ipynb_checkpoints/\n",
    ".env\n",
    "gcloud-creds.json\n",
    ".DS_Store"
   ]
  },
  {
   "cell_type": "code",
   "execution_count": null,
   "id": "6e69bfba",
   "metadata": {
    "tags": []
   },
   "outputs": [],
   "source": [
    "# Configure DVC to use Google Cloud Storage as remote storage\n",
    "BUCKET_NAME=\"mlops-course-week1-001\"\n",
    "!dvc remote add -d gcp-store gs://$BUCKET_NAME/dvc_store"
   ]
  },
  {
   "cell_type": "code",
   "execution_count": null,
   "id": "07f5db43",
   "metadata": {
    "tags": []
   },
   "outputs": [],
   "source": [
    "# Authenticate with Google Cloud\n",
    "PATH_TO_CREDENTIALS=\"gcloud-creds.json\"\n",
    "!gcloud auth activate-service-account --key-file=$PATH_TO_CREDENTIALS"
   ]
  },
  {
   "cell_type": "code",
   "execution_count": null,
   "id": "d3435348-9375-49ca-93d1-ab64cf2458a4",
   "metadata": {
    "tags": []
   },
   "outputs": [],
   "source": [
    "# Commit Initial setup and DVC remote configuration to Git\n",
    "!git add .dvc/config .gitignore requirements.txt setup.ipynb\n",
    "!git commit -m \"Initial commit: Setup project with DVC and Git\""
   ]
  },
  {
   "cell_type": "code",
   "execution_count": null,
   "id": "fbdf7272-611a-4e28-aa3f-6d43e365abde",
   "metadata": {
    "tags": []
   },
   "outputs": [],
   "source": [
    "# Download dataset file\n",
    "!wget -O data.csv \"https://github.com/IITMBSMLOps/ga_resources/blob/week_1/data/raw/iris.csv?raw=true\""
   ]
  },
  {
   "cell_type": "code",
   "execution_count": null,
   "id": "29428e5b-d88d-4de7-bab7-571a064c2679",
   "metadata": {
    "tags": []
   },
   "outputs": [],
   "source": [
    "# Train and save the model\n",
    "!python3 train.py"
   ]
  },
  {
   "cell_type": "code",
   "execution_count": null,
   "id": "5717d1c3-3ec7-434a-be66-3c55ae133b14",
   "metadata": {
    "tags": []
   },
   "outputs": [],
   "source": [
    "# Track the model files and artifacts via DVC\n",
    "!dvc add data.csv model.joblib\n",
    "\n",
    "# Track the code files via git\n",
    "!git add data.csv.dvc model.joblib.dvc .gitignore\n",
    "!git commit -m \"feat: Track dataset and model with DVC\""
   ]
  },
  {
   "cell_type": "code",
   "execution_count": null,
   "id": "a0f0b55c-3838-4cfc-adb4-7dd8dbe1a343",
   "metadata": {
    "tags": []
   },
   "outputs": [],
   "source": [
    "# Push files and artifacts to google cloud storage via DVC\n",
    "!dvc push"
   ]
  },
  {
   "cell_type": "code",
   "execution_count": null,
   "id": "8a817b7e-b4cf-46af-b18b-db1096c35ee1",
   "metadata": {
    "tags": []
   },
   "outputs": [],
   "source": [
    "# Add Git remote and set main branch\n",
    "!git remote add origin https://github.com/mayank160920/iris-mlops-ci-3.git\n",
    "!git branch -M main\n",
    "# git push -u origin main"
   ]
  },
  {
   "cell_type": "code",
   "execution_count": null,
   "id": "43884e2a-34aa-4d92-9f34-3185b6d182a2",
   "metadata": {
    "tags": []
   },
   "outputs": [],
   "source": [
    "# Create GitHub Actions workflow directory\n",
    "!mkdir -p .github/workflows"
   ]
  },
  {
   "cell_type": "code",
   "execution_count": null,
   "id": "b3f43f6f-cc1a-40e1-83df-fd155b8638c0",
   "metadata": {
    "tags": []
   },
   "outputs": [],
   "source": [
    "%%writefile .github/workflows/ci.yml\n",
    "name: MLOps CI Pipeline\n",
    "\n",
    "on:\n",
    "  push:\n",
    "    branches: [dev]\n",
    "  pull_request:\n",
    "    branches: [main]\n",
    "\n",
    "permissions:\n",
    "  contents: write\n",
    "  pull-requests: write\n",
    "\n",
    "jobs:\n",
    "  test-and-report:\n",
    "    runs-on: ubuntu-latest\n",
    "    steps:\n",
    "      - name: Checkout code\n",
    "        uses: actions/checkout@v3\n",
    "\n",
    "      - name: Set up Python\n",
    "        uses: actions/setup-python@v4\n",
    "        with:\n",
    "          python-version: '3.9'\n",
    "\n",
    "      - name: Upgrade pip\n",
    "        run: python -m pip install --upgrade pip\n",
    "\n",
    "      - name: Install core dependencies\n",
    "        run: |\n",
    "          pip install -r requirements.txt\n",
    "\n",
    "      - name: Run CML\n",
    "        uses: iterative/setup-cml@v2\n",
    "\n",
    "      - name: Authenticate with Google Cloud\n",
    "        uses: google-github-actions/auth@v1\n",
    "        with:\n",
    "          credentials_json: '${{ secrets.GCP_SA_KEY }}'\n",
    "\n",
    "      - name: Pull artifacts from DVC\n",
    "        run: dvc pull\n",
    "\n",
    "      - name: Run Pytest and Save Report\n",
    "        run: pytest --maxfail=1 --disable-warnings -q > report.txt\n",
    "\n",
    "      - name: Create CML report on Pull Request\n",
    "        if: github.event_name == 'pull_request'\n",
    "        env:\n",
    "          repo_token: ${{ secrets.GITHUB_TOKEN }}\n",
    "        run: |\n",
    "          echo \"## ✅ MLOps CI Report\" > cml_report.md\n",
    "          echo \"**Branch:** ${{ github.head_ref }}\" >> cml_report.md\n",
    "          echo \"**Commit:** \\`${{ github.sha }}\\`\" >> cml_report.md\n",
    "          echo \"\" >> cml_report.md\n",
    "          echo \"### 🧪 Test Summary\" >> cml_report.md\n",
    "          cat report.txt >> cml_report.md\n",
    "          echo \"\" >> cml_report.md\n",
    "          echo \"---\" >> cml_report.md\n",
    "          echo \"_Generated automatically by CML_\" >> cml_report.md\n",
    "          cml comment create cml_report.md"
   ]
  },
  {
   "cell_type": "code",
   "execution_count": null,
   "id": "e42c1328-347d-4248-b97b-2f9283a080b7",
   "metadata": {
    "tags": []
   },
   "outputs": [],
   "source": [
    "# Commit tests, requirements, and CI workflow to Git and push to dev branch\n",
    "!git add .\n",
    "!git commit -m \"feat: Add tests, requirements, and CI workflow\"\n",
    "# !git checkout -b dev  # Create and switch to the dev branch"
   ]
  },
  {
   "cell_type": "code",
   "execution_count": null,
   "id": "bfc1c514-4da4-487e-9e56-7bfbdf61aabf",
   "metadata": {},
   "outputs": [],
   "source": [
    "!git push -u origin dev"
   ]
  }
 ],
 "metadata": {
  "environment": {
   "kernel": "conda-base-py",
   "name": "workbench-notebooks.m133",
   "type": "gcloud",
   "uri": "us-docker.pkg.dev/deeplearning-platform-release/gcr.io/workbench-notebooks:m133"
  },
  "kernelspec": {
   "display_name": "Python 3 (ipykernel)",
   "language": "python",
   "name": "conda-base-py"
  },
  "language_info": {
   "codemirror_mode": {
    "name": "ipython",
    "version": 3
   },
   "file_extension": ".py",
   "mimetype": "text/x-python",
   "name": "python",
   "nbconvert_exporter": "python",
   "pygments_lexer": "ipython3",
   "version": "3.10.18"
  }
 },
 "nbformat": 4,
 "nbformat_minor": 5
}
