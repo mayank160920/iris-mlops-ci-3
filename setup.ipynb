{
 "cells": [
  {
   "cell_type": "code",
   "execution_count": 1,
   "id": "b983afc8",
   "metadata": {
    "tags": []
   },
   "outputs": [
    {
     "name": "stdout",
     "output_type": "stream",
     "text": [
      "Requirement already satisfied: pandas in /opt/conda/lib/python3.10/site-packages (from -r requirements.txt (line 1)) (2.3.2)\n",
      "Requirement already satisfied: scikit-learn in /opt/conda/lib/python3.10/site-packages (from -r requirements.txt (line 2)) (1.7.2)\n",
      "Requirement already satisfied: pytest in /opt/conda/lib/python3.10/site-packages (from -r requirements.txt (line 3)) (8.4.2)\n",
      "Requirement already satisfied: dvc-gs in /opt/conda/lib/python3.10/site-packages (from -r requirements.txt (line 4)) (3.0.2)\n",
      "Requirement already satisfied: google-cloud-aiplatform in /opt/conda/lib/python3.10/site-packages (from -r requirements.txt (line 5)) (1.119.0)\n",
      "Requirement already satisfied: joblib in /opt/conda/lib/python3.10/site-packages (from -r requirements.txt (line 6)) (1.5.2)\n",
      "Requirement already satisfied: numpy>=1.22.4 in /opt/conda/lib/python3.10/site-packages (from pandas->-r requirements.txt (line 1)) (2.2.6)\n",
      "Requirement already satisfied: python-dateutil>=2.8.2 in /opt/conda/lib/python3.10/site-packages (from pandas->-r requirements.txt (line 1)) (2.9.0.post0)\n",
      "Requirement already satisfied: pytz>=2020.1 in /opt/conda/lib/python3.10/site-packages (from pandas->-r requirements.txt (line 1)) (2025.2)\n",
      "Requirement already satisfied: tzdata>=2022.7 in /opt/conda/lib/python3.10/site-packages (from pandas->-r requirements.txt (line 1)) (2025.2)\n",
      "Requirement already satisfied: scipy>=1.8.0 in /opt/conda/lib/python3.10/site-packages (from scikit-learn->-r requirements.txt (line 2)) (1.15.3)\n",
      "Requirement already satisfied: threadpoolctl>=3.1.0 in /opt/conda/lib/python3.10/site-packages (from scikit-learn->-r requirements.txt (line 2)) (3.6.0)\n",
      "Requirement already satisfied: exceptiongroup>=1 in /opt/conda/lib/python3.10/site-packages (from pytest->-r requirements.txt (line 3)) (1.3.0)\n",
      "Requirement already satisfied: iniconfig>=1 in /opt/conda/lib/python3.10/site-packages (from pytest->-r requirements.txt (line 3)) (2.3.0)\n",
      "Requirement already satisfied: packaging>=20 in /opt/conda/lib/python3.10/site-packages (from pytest->-r requirements.txt (line 3)) (25.0)\n",
      "Requirement already satisfied: pluggy<2,>=1.5 in /opt/conda/lib/python3.10/site-packages (from pytest->-r requirements.txt (line 3)) (1.6.0)\n",
      "Requirement already satisfied: pygments>=2.7.2 in /opt/conda/lib/python3.10/site-packages (from pytest->-r requirements.txt (line 3)) (2.19.2)\n",
      "Requirement already satisfied: tomli>=1 in /opt/conda/lib/python3.10/site-packages (from pytest->-r requirements.txt (line 3)) (2.2.1)\n",
      "Requirement already satisfied: dvc in /opt/conda/lib/python3.10/site-packages (from dvc-gs->-r requirements.txt (line 4)) (3.63.0)\n",
      "Requirement already satisfied: gcsfs>=2022.11.0 in /opt/conda/lib/python3.10/site-packages (from dvc-gs->-r requirements.txt (line 4)) (2024.9.0.post1)\n",
      "Requirement already satisfied: google-api-core!=2.0.*,!=2.1.*,!=2.2.*,!=2.3.*,!=2.4.*,!=2.5.*,!=2.6.*,!=2.7.*,<3.0.0,>=1.34.1 in /opt/conda/lib/python3.10/site-packages (from google-api-core[grpc]!=2.0.*,!=2.1.*,!=2.2.*,!=2.3.*,!=2.4.*,!=2.5.*,!=2.6.*,!=2.7.*,<3.0.0,>=1.34.1->google-cloud-aiplatform->-r requirements.txt (line 5)) (2.25.1)\n",
      "Requirement already satisfied: google-auth<3.0.0,>=2.14.1 in /opt/conda/lib/python3.10/site-packages (from google-cloud-aiplatform->-r requirements.txt (line 5)) (2.40.3)\n",
      "Requirement already satisfied: proto-plus<2.0.0,>=1.22.3 in /opt/conda/lib/python3.10/site-packages (from google-cloud-aiplatform->-r requirements.txt (line 5)) (1.26.1)\n",
      "Requirement already satisfied: protobuf!=4.21.0,!=4.21.1,!=4.21.2,!=4.21.3,!=4.21.4,!=4.21.5,<7.0.0,>=3.20.2 in /opt/conda/lib/python3.10/site-packages (from google-cloud-aiplatform->-r requirements.txt (line 5)) (6.31.1)\n",
      "Requirement already satisfied: google-cloud-storage<3.0.0,>=1.32.0 in /opt/conda/lib/python3.10/site-packages (from google-cloud-aiplatform->-r requirements.txt (line 5)) (2.19.0)\n",
      "Requirement already satisfied: google-cloud-bigquery!=3.20.0,<4.0.0,>=1.15.0 in /opt/conda/lib/python3.10/site-packages (from google-cloud-aiplatform->-r requirements.txt (line 5)) (3.37.0)\n",
      "Requirement already satisfied: google-cloud-resource-manager<3.0.0,>=1.3.3 in /opt/conda/lib/python3.10/site-packages (from google-cloud-aiplatform->-r requirements.txt (line 5)) (1.14.2)\n",
      "Requirement already satisfied: shapely<3.0.0 in /opt/conda/lib/python3.10/site-packages (from google-cloud-aiplatform->-r requirements.txt (line 5)) (2.1.1)\n",
      "Requirement already satisfied: google-genai<2.0.0,>=1.37.0 in /opt/conda/lib/python3.10/site-packages (from google-cloud-aiplatform->-r requirements.txt (line 5)) (1.37.0)\n",
      "Requirement already satisfied: pydantic<3 in /opt/conda/lib/python3.10/site-packages (from google-cloud-aiplatform->-r requirements.txt (line 5)) (2.10.6)\n",
      "Requirement already satisfied: typing_extensions in /opt/conda/lib/python3.10/site-packages (from google-cloud-aiplatform->-r requirements.txt (line 5)) (4.15.0)\n",
      "Requirement already satisfied: docstring_parser<1 in /opt/conda/lib/python3.10/site-packages (from google-cloud-aiplatform->-r requirements.txt (line 5)) (0.17.0)\n",
      "Requirement already satisfied: googleapis-common-protos<2.0.0,>=1.56.2 in /opt/conda/lib/python3.10/site-packages (from google-api-core!=2.0.*,!=2.1.*,!=2.2.*,!=2.3.*,!=2.4.*,!=2.5.*,!=2.6.*,!=2.7.*,<3.0.0,>=1.34.1->google-api-core[grpc]!=2.0.*,!=2.1.*,!=2.2.*,!=2.3.*,!=2.4.*,!=2.5.*,!=2.6.*,!=2.7.*,<3.0.0,>=1.34.1->google-cloud-aiplatform->-r requirements.txt (line 5)) (1.70.0)\n",
      "Requirement already satisfied: requests<3.0.0,>=2.18.0 in /opt/conda/lib/python3.10/site-packages (from google-api-core!=2.0.*,!=2.1.*,!=2.2.*,!=2.3.*,!=2.4.*,!=2.5.*,!=2.6.*,!=2.7.*,<3.0.0,>=1.34.1->google-api-core[grpc]!=2.0.*,!=2.1.*,!=2.2.*,!=2.3.*,!=2.4.*,!=2.5.*,!=2.6.*,!=2.7.*,<3.0.0,>=1.34.1->google-cloud-aiplatform->-r requirements.txt (line 5)) (2.32.5)\n",
      "Requirement already satisfied: grpcio<2.0.0,>=1.33.2 in /opt/conda/lib/python3.10/site-packages (from google-api-core[grpc]!=2.0.*,!=2.1.*,!=2.2.*,!=2.3.*,!=2.4.*,!=2.5.*,!=2.6.*,!=2.7.*,<3.0.0,>=1.34.1->google-cloud-aiplatform->-r requirements.txt (line 5)) (1.75.0)\n",
      "Requirement already satisfied: grpcio-status<2.0.0,>=1.33.2 in /opt/conda/lib/python3.10/site-packages (from google-api-core[grpc]!=2.0.*,!=2.1.*,!=2.2.*,!=2.3.*,!=2.4.*,!=2.5.*,!=2.6.*,!=2.7.*,<3.0.0,>=1.34.1->google-cloud-aiplatform->-r requirements.txt (line 5)) (1.75.0)\n",
      "Requirement already satisfied: cachetools<6.0,>=2.0.0 in /opt/conda/lib/python3.10/site-packages (from google-auth<3.0.0,>=2.14.1->google-cloud-aiplatform->-r requirements.txt (line 5)) (5.5.2)\n",
      "Requirement already satisfied: pyasn1-modules>=0.2.1 in /opt/conda/lib/python3.10/site-packages (from google-auth<3.0.0,>=2.14.1->google-cloud-aiplatform->-r requirements.txt (line 5)) (0.4.2)\n",
      "Requirement already satisfied: rsa<5,>=3.1.4 in /opt/conda/lib/python3.10/site-packages (from google-auth<3.0.0,>=2.14.1->google-cloud-aiplatform->-r requirements.txt (line 5)) (4.9.1)\n",
      "Requirement already satisfied: google-cloud-core<3.0.0,>=2.4.1 in /opt/conda/lib/python3.10/site-packages (from google-cloud-bigquery!=3.20.0,<4.0.0,>=1.15.0->google-cloud-aiplatform->-r requirements.txt (line 5)) (2.4.3)\n",
      "Requirement already satisfied: google-resumable-media<3.0.0,>=2.0.0 in /opt/conda/lib/python3.10/site-packages (from google-cloud-bigquery!=3.20.0,<4.0.0,>=1.15.0->google-cloud-aiplatform->-r requirements.txt (line 5)) (2.7.2)\n",
      "Requirement already satisfied: grpc-google-iam-v1<1.0.0,>=0.14.0 in /opt/conda/lib/python3.10/site-packages (from google-cloud-resource-manager<3.0.0,>=1.3.3->google-cloud-aiplatform->-r requirements.txt (line 5)) (0.14.2)\n",
      "Requirement already satisfied: google-crc32c<2.0dev,>=1.0 in /opt/conda/lib/python3.10/site-packages (from google-cloud-storage<3.0.0,>=1.32.0->google-cloud-aiplatform->-r requirements.txt (line 5)) (1.7.1)\n",
      "Requirement already satisfied: anyio<5.0.0,>=4.8.0 in /opt/conda/lib/python3.10/site-packages (from google-genai<2.0.0,>=1.37.0->google-cloud-aiplatform->-r requirements.txt (line 5)) (4.10.0)\n",
      "Requirement already satisfied: httpx<1.0.0,>=0.28.1 in /opt/conda/lib/python3.10/site-packages (from google-genai<2.0.0,>=1.37.0->google-cloud-aiplatform->-r requirements.txt (line 5)) (0.28.1)\n",
      "Requirement already satisfied: tenacity<9.2.0,>=8.2.3 in /opt/conda/lib/python3.10/site-packages (from google-genai<2.0.0,>=1.37.0->google-cloud-aiplatform->-r requirements.txt (line 5)) (8.5.0)\n",
      "Requirement already satisfied: websockets<15.1.0,>=13.0.0 in /opt/conda/lib/python3.10/site-packages (from google-genai<2.0.0,>=1.37.0->google-cloud-aiplatform->-r requirements.txt (line 5)) (15.0.1)\n",
      "Requirement already satisfied: idna>=2.8 in /opt/conda/lib/python3.10/site-packages (from anyio<5.0.0,>=4.8.0->google-genai<2.0.0,>=1.37.0->google-cloud-aiplatform->-r requirements.txt (line 5)) (3.10)\n",
      "Requirement already satisfied: sniffio>=1.1 in /opt/conda/lib/python3.10/site-packages (from anyio<5.0.0,>=4.8.0->google-genai<2.0.0,>=1.37.0->google-cloud-aiplatform->-r requirements.txt (line 5)) (1.3.1)\n",
      "Requirement already satisfied: certifi in /opt/conda/lib/python3.10/site-packages (from httpx<1.0.0,>=0.28.1->google-genai<2.0.0,>=1.37.0->google-cloud-aiplatform->-r requirements.txt (line 5)) (2025.8.3)\n",
      "Requirement already satisfied: httpcore==1.* in /opt/conda/lib/python3.10/site-packages (from httpx<1.0.0,>=0.28.1->google-genai<2.0.0,>=1.37.0->google-cloud-aiplatform->-r requirements.txt (line 5)) (1.0.9)\n",
      "Requirement already satisfied: h11>=0.16 in /opt/conda/lib/python3.10/site-packages (from httpcore==1.*->httpx<1.0.0,>=0.28.1->google-genai<2.0.0,>=1.37.0->google-cloud-aiplatform->-r requirements.txt (line 5)) (0.16.0)\n",
      "Requirement already satisfied: annotated-types>=0.6.0 in /opt/conda/lib/python3.10/site-packages (from pydantic<3->google-cloud-aiplatform->-r requirements.txt (line 5)) (0.7.0)\n",
      "Requirement already satisfied: pydantic-core==2.27.2 in /opt/conda/lib/python3.10/site-packages (from pydantic<3->google-cloud-aiplatform->-r requirements.txt (line 5)) (2.27.2)\n",
      "Requirement already satisfied: six>=1.5 in /opt/conda/lib/python3.10/site-packages (from python-dateutil>=2.8.2->pandas->-r requirements.txt (line 1)) (1.17.0)\n",
      "Requirement already satisfied: charset_normalizer<4,>=2 in /opt/conda/lib/python3.10/site-packages (from requests<3.0.0,>=2.18.0->google-api-core!=2.0.*,!=2.1.*,!=2.2.*,!=2.3.*,!=2.4.*,!=2.5.*,!=2.6.*,!=2.7.*,<3.0.0,>=1.34.1->google-api-core[grpc]!=2.0.*,!=2.1.*,!=2.2.*,!=2.3.*,!=2.4.*,!=2.5.*,!=2.6.*,!=2.7.*,<3.0.0,>=1.34.1->google-cloud-aiplatform->-r requirements.txt (line 5)) (3.4.2)\n",
      "Requirement already satisfied: urllib3<3,>=1.21.1 in /opt/conda/lib/python3.10/site-packages (from requests<3.0.0,>=2.18.0->google-api-core!=2.0.*,!=2.1.*,!=2.2.*,!=2.3.*,!=2.4.*,!=2.5.*,!=2.6.*,!=2.7.*,<3.0.0,>=1.34.1->google-api-core[grpc]!=2.0.*,!=2.1.*,!=2.2.*,!=2.3.*,!=2.4.*,!=2.5.*,!=2.6.*,!=2.7.*,<3.0.0,>=1.34.1->google-cloud-aiplatform->-r requirements.txt (line 5)) (2.5.0)\n",
      "Requirement already satisfied: pyasn1>=0.1.3 in /opt/conda/lib/python3.10/site-packages (from rsa<5,>=3.1.4->google-auth<3.0.0,>=2.14.1->google-cloud-aiplatform->-r requirements.txt (line 5)) (0.6.1)\n",
      "Requirement already satisfied: aiohttp!=4.0.0a0,!=4.0.0a1 in /opt/conda/lib/python3.10/site-packages (from gcsfs>=2022.11.0->dvc-gs->-r requirements.txt (line 4)) (3.12.15)\n",
      "Requirement already satisfied: decorator>4.1.2 in /opt/conda/lib/python3.10/site-packages (from gcsfs>=2022.11.0->dvc-gs->-r requirements.txt (line 4)) (5.2.1)\n",
      "Requirement already satisfied: fsspec==2024.9.0 in /opt/conda/lib/python3.10/site-packages (from gcsfs>=2022.11.0->dvc-gs->-r requirements.txt (line 4)) (2024.9.0)\n",
      "Requirement already satisfied: google-auth-oauthlib in /opt/conda/lib/python3.10/site-packages (from gcsfs>=2022.11.0->dvc-gs->-r requirements.txt (line 4)) (1.2.2)\n",
      "Requirement already satisfied: aiohappyeyeballs>=2.5.0 in /opt/conda/lib/python3.10/site-packages (from aiohttp!=4.0.0a0,!=4.0.0a1->gcsfs>=2022.11.0->dvc-gs->-r requirements.txt (line 4)) (2.6.1)\n",
      "Requirement already satisfied: aiosignal>=1.4.0 in /opt/conda/lib/python3.10/site-packages (from aiohttp!=4.0.0a0,!=4.0.0a1->gcsfs>=2022.11.0->dvc-gs->-r requirements.txt (line 4)) (1.4.0)\n",
      "Requirement already satisfied: async-timeout<6.0,>=4.0 in /opt/conda/lib/python3.10/site-packages (from aiohttp!=4.0.0a0,!=4.0.0a1->gcsfs>=2022.11.0->dvc-gs->-r requirements.txt (line 4)) (5.0.1)\n",
      "Requirement already satisfied: attrs>=17.3.0 in /opt/conda/lib/python3.10/site-packages (from aiohttp!=4.0.0a0,!=4.0.0a1->gcsfs>=2022.11.0->dvc-gs->-r requirements.txt (line 4)) (25.3.0)\n",
      "Requirement already satisfied: frozenlist>=1.1.1 in /opt/conda/lib/python3.10/site-packages (from aiohttp!=4.0.0a0,!=4.0.0a1->gcsfs>=2022.11.0->dvc-gs->-r requirements.txt (line 4)) (1.7.0)\n",
      "Requirement already satisfied: multidict<7.0,>=4.5 in /opt/conda/lib/python3.10/site-packages (from aiohttp!=4.0.0a0,!=4.0.0a1->gcsfs>=2022.11.0->dvc-gs->-r requirements.txt (line 4)) (6.6.4)\n",
      "Requirement already satisfied: propcache>=0.2.0 in /opt/conda/lib/python3.10/site-packages (from aiohttp!=4.0.0a0,!=4.0.0a1->gcsfs>=2022.11.0->dvc-gs->-r requirements.txt (line 4)) (0.3.2)\n",
      "Requirement already satisfied: yarl<2.0,>=1.17.0 in /opt/conda/lib/python3.10/site-packages (from aiohttp!=4.0.0a0,!=4.0.0a1->gcsfs>=2022.11.0->dvc-gs->-r requirements.txt (line 4)) (1.20.1)\n",
      "Requirement already satisfied: celery in /opt/conda/lib/python3.10/site-packages (from dvc->dvc-gs->-r requirements.txt (line 4)) (5.5.3)\n",
      "Requirement already satisfied: colorama>=0.3.9 in /opt/conda/lib/python3.10/site-packages (from dvc->dvc-gs->-r requirements.txt (line 4)) (0.4.6)\n",
      "Requirement already satisfied: configobj>=5.0.9 in /opt/conda/lib/python3.10/site-packages (from dvc->dvc-gs->-r requirements.txt (line 4)) (5.0.9)\n",
      "Requirement already satisfied: distro>=1.3 in /opt/conda/lib/python3.10/site-packages (from dvc->dvc-gs->-r requirements.txt (line 4)) (1.9.0)\n",
      "Requirement already satisfied: dpath<3,>=2.1.0 in /opt/conda/lib/python3.10/site-packages (from dvc->dvc-gs->-r requirements.txt (line 4)) (2.2.0)\n",
      "Requirement already satisfied: dulwich in /opt/conda/lib/python3.10/site-packages (from dvc->dvc-gs->-r requirements.txt (line 4)) (0.24.2)\n",
      "Requirement already satisfied: dvc-data<3.17,>=3.16.2 in /opt/conda/lib/python3.10/site-packages (from dvc->dvc-gs->-r requirements.txt (line 4)) (3.16.12)\n",
      "Requirement already satisfied: dvc-http>=2.29.0 in /opt/conda/lib/python3.10/site-packages (from dvc->dvc-gs->-r requirements.txt (line 4)) (2.32.0)\n",
      "Requirement already satisfied: dvc-objects in /opt/conda/lib/python3.10/site-packages (from dvc->dvc-gs->-r requirements.txt (line 4)) (5.1.2)\n",
      "Requirement already satisfied: dvc-render<2,>=1.0.1 in /opt/conda/lib/python3.10/site-packages (from dvc->dvc-gs->-r requirements.txt (line 4)) (1.0.2)\n",
      "Requirement already satisfied: dvc-studio-client<1,>=0.21 in /opt/conda/lib/python3.10/site-packages (from dvc->dvc-gs->-r requirements.txt (line 4)) (0.22.0)\n",
      "Requirement already satisfied: dvc-task<1,>=0.3.0 in /opt/conda/lib/python3.10/site-packages (from dvc->dvc-gs->-r requirements.txt (line 4)) (0.40.2)\n",
      "Requirement already satisfied: flatten_dict<1,>=0.4.1 in /opt/conda/lib/python3.10/site-packages (from dvc->dvc-gs->-r requirements.txt (line 4)) (0.4.2)\n",
      "Requirement already satisfied: flufl.lock<9,>=8.1.0 in /opt/conda/lib/python3.10/site-packages (from dvc->dvc-gs->-r requirements.txt (line 4)) (8.2.0)\n",
      "Requirement already satisfied: funcy>=1.14 in /opt/conda/lib/python3.10/site-packages (from dvc->dvc-gs->-r requirements.txt (line 4)) (2.0)\n",
      "Requirement already satisfied: grandalf<1,>=0.7 in /opt/conda/lib/python3.10/site-packages (from dvc->dvc-gs->-r requirements.txt (line 4)) (0.8)\n",
      "Requirement already satisfied: gto<2,>=1.6.0 in /opt/conda/lib/python3.10/site-packages (from dvc->dvc-gs->-r requirements.txt (line 4)) (1.8.0)\n",
      "Requirement already satisfied: hydra-core>=1.1 in /opt/conda/lib/python3.10/site-packages (from dvc->dvc-gs->-r requirements.txt (line 4)) (1.3.2)\n",
      "Requirement already satisfied: iterative-telemetry>=0.0.7 in /opt/conda/lib/python3.10/site-packages (from dvc->dvc-gs->-r requirements.txt (line 4)) (0.0.10)\n",
      "Requirement already satisfied: kombu in /opt/conda/lib/python3.10/site-packages (from dvc->dvc-gs->-r requirements.txt (line 4)) (5.5.4)\n",
      "Requirement already satisfied: networkx>=2.5 in /opt/conda/lib/python3.10/site-packages (from dvc->dvc-gs->-r requirements.txt (line 4)) (3.4.2)\n",
      "Requirement already satisfied: omegaconf in /opt/conda/lib/python3.10/site-packages (from dvc->dvc-gs->-r requirements.txt (line 4)) (2.3.0)\n",
      "Requirement already satisfied: pathspec>=0.10.3 in /opt/conda/lib/python3.10/site-packages (from dvc->dvc-gs->-r requirements.txt (line 4)) (0.12.1)\n",
      "Requirement already satisfied: platformdirs<5,>=3.1.1 in /opt/conda/lib/python3.10/site-packages (from dvc->dvc-gs->-r requirements.txt (line 4)) (4.3.8)\n",
      "Requirement already satisfied: psutil>=5.8 in /opt/conda/lib/python3.10/site-packages (from dvc->dvc-gs->-r requirements.txt (line 4)) (5.9.3)\n",
      "Requirement already satisfied: pydot>=1.2.4 in /opt/conda/lib/python3.10/site-packages (from dvc->dvc-gs->-r requirements.txt (line 4)) (4.0.1)\n",
      "Requirement already satisfied: pygtrie>=2.3.2 in /opt/conda/lib/python3.10/site-packages (from dvc->dvc-gs->-r requirements.txt (line 4)) (2.5.0)\n",
      "Requirement already satisfied: pyparsing>=2.4.7 in /opt/conda/lib/python3.10/site-packages (from dvc->dvc-gs->-r requirements.txt (line 4)) (3.2.4)\n",
      "Requirement already satisfied: rich>=12 in /opt/conda/lib/python3.10/site-packages (from dvc->dvc-gs->-r requirements.txt (line 4)) (13.9.4)\n",
      "Requirement already satisfied: ruamel.yaml>=0.17.11 in /opt/conda/lib/python3.10/site-packages (from dvc->dvc-gs->-r requirements.txt (line 4)) (0.18.15)\n",
      "Requirement already satisfied: scmrepo<4,>=3.5.2 in /opt/conda/lib/python3.10/site-packages (from dvc->dvc-gs->-r requirements.txt (line 4)) (3.5.2)\n",
      "Requirement already satisfied: shortuuid>=0.5 in /opt/conda/lib/python3.10/site-packages (from dvc->dvc-gs->-r requirements.txt (line 4)) (1.0.13)\n",
      "Requirement already satisfied: shtab<2,>=1.3.4 in /opt/conda/lib/python3.10/site-packages (from dvc->dvc-gs->-r requirements.txt (line 4)) (1.7.2)\n",
      "Requirement already satisfied: tabulate>=0.8.7 in /opt/conda/lib/python3.10/site-packages (from dvc->dvc-gs->-r requirements.txt (line 4)) (0.9.0)\n",
      "Requirement already satisfied: tomlkit>=0.11.1 in /opt/conda/lib/python3.10/site-packages (from dvc->dvc-gs->-r requirements.txt (line 4)) (0.13.3)\n",
      "Requirement already satisfied: tqdm<5,>=4.63.1 in /opt/conda/lib/python3.10/site-packages (from dvc->dvc-gs->-r requirements.txt (line 4)) (4.67.1)\n",
      "Requirement already satisfied: voluptuous>=0.11.7 in /opt/conda/lib/python3.10/site-packages (from dvc->dvc-gs->-r requirements.txt (line 4)) (0.15.2)\n",
      "Requirement already satisfied: zc.lockfile>=1.2.1 in /opt/conda/lib/python3.10/site-packages (from dvc->dvc-gs->-r requirements.txt (line 4)) (4.0)\n",
      "Requirement already satisfied: dictdiffer>=0.8.1 in /opt/conda/lib/python3.10/site-packages (from dvc-data<3.17,>=3.16.2->dvc->dvc-gs->-r requirements.txt (line 4)) (0.9.0)\n",
      "Requirement already satisfied: diskcache>=5.2.1 in /opt/conda/lib/python3.10/site-packages (from dvc-data<3.17,>=3.16.2->dvc->dvc-gs->-r requirements.txt (line 4)) (5.6.3)\n",
      "Requirement already satisfied: sqltrie<1,>=0.11.0 in /opt/conda/lib/python3.10/site-packages (from dvc-data<3.17,>=3.16.2->dvc->dvc-gs->-r requirements.txt (line 4)) (0.11.2)\n",
      "Requirement already satisfied: orjson<4,>=3 in /opt/conda/lib/python3.10/site-packages (from dvc-data<3.17,>=3.16.2->dvc->dvc-gs->-r requirements.txt (line 4)) (3.11.3)\n",
      "Requirement already satisfied: billiard<5.0,>=4.2.1 in /opt/conda/lib/python3.10/site-packages (from celery->dvc->dvc-gs->-r requirements.txt (line 4)) (4.2.1)\n",
      "Requirement already satisfied: vine<6.0,>=5.1.0 in /opt/conda/lib/python3.10/site-packages (from celery->dvc->dvc-gs->-r requirements.txt (line 4)) (5.1.0)\n",
      "Requirement already satisfied: click<9.0,>=8.1.2 in /opt/conda/lib/python3.10/site-packages (from celery->dvc->dvc-gs->-r requirements.txt (line 4)) (8.1.8)\n",
      "Requirement already satisfied: click-didyoumean>=0.3.0 in /opt/conda/lib/python3.10/site-packages (from celery->dvc->dvc-gs->-r requirements.txt (line 4)) (0.3.1)\n",
      "Requirement already satisfied: click-repl>=0.2.0 in /opt/conda/lib/python3.10/site-packages (from celery->dvc->dvc-gs->-r requirements.txt (line 4)) (0.3.0)\n",
      "Requirement already satisfied: click-plugins>=1.1.1 in /opt/conda/lib/python3.10/site-packages (from celery->dvc->dvc-gs->-r requirements.txt (line 4)) (1.1.1.2)\n",
      "Requirement already satisfied: atpublic in /opt/conda/lib/python3.10/site-packages (from flufl.lock<9,>=8.1.0->dvc->dvc-gs->-r requirements.txt (line 4)) (5.1)\n",
      "Requirement already satisfied: entrypoints in /opt/conda/lib/python3.10/site-packages (from gto<2,>=1.6.0->dvc->dvc-gs->-r requirements.txt (line 4)) (0.4)\n",
      "Requirement already satisfied: semver>=2.13.0 in /opt/conda/lib/python3.10/site-packages (from gto<2,>=1.6.0->dvc->dvc-gs->-r requirements.txt (line 4)) (3.0.4)\n",
      "Requirement already satisfied: typer>=0.4.1 in /opt/conda/lib/python3.10/site-packages (from gto<2,>=1.6.0->dvc->dvc-gs->-r requirements.txt (line 4)) (0.19.2)\n",
      "Requirement already satisfied: amqp<6.0.0,>=5.1.1 in /opt/conda/lib/python3.10/site-packages (from kombu->dvc->dvc-gs->-r requirements.txt (line 4)) (5.3.1)\n",
      "Requirement already satisfied: gitpython>3 in /opt/conda/lib/python3.10/site-packages (from scmrepo<4,>=3.5.2->dvc->dvc-gs->-r requirements.txt (line 4)) (3.1.45)\n",
      "Requirement already satisfied: pygit2>=1.14.0 in /opt/conda/lib/python3.10/site-packages (from scmrepo<4,>=3.5.2->dvc->dvc-gs->-r requirements.txt (line 4)) (1.18.2)\n",
      "Requirement already satisfied: asyncssh<3,>=2.13.1 in /opt/conda/lib/python3.10/site-packages (from scmrepo<4,>=3.5.2->dvc->dvc-gs->-r requirements.txt (line 4)) (2.21.1)\n",
      "Requirement already satisfied: aiohttp-retry>=2.5.0 in /opt/conda/lib/python3.10/site-packages (from scmrepo<4,>=3.5.2->dvc->dvc-gs->-r requirements.txt (line 4)) (2.9.1)\n",
      "Requirement already satisfied: cryptography>=39.0 in /opt/conda/lib/python3.10/site-packages (from asyncssh<3,>=2.13.1->scmrepo<4,>=3.5.2->dvc->dvc-gs->-r requirements.txt (line 4)) (45.0.7)\n",
      "Requirement already satisfied: prompt-toolkit>=3.0.36 in /opt/conda/lib/python3.10/site-packages (from click-repl>=0.2.0->celery->dvc->dvc-gs->-r requirements.txt (line 4)) (3.0.52)\n",
      "Requirement already satisfied: cffi>=1.14 in /opt/conda/lib/python3.10/site-packages (from cryptography>=39.0->asyncssh<3,>=2.13.1->scmrepo<4,>=3.5.2->dvc->dvc-gs->-r requirements.txt (line 4)) (1.17.1)\n",
      "Requirement already satisfied: pycparser in /opt/conda/lib/python3.10/site-packages (from cffi>=1.14->cryptography>=39.0->asyncssh<3,>=2.13.1->scmrepo<4,>=3.5.2->dvc->dvc-gs->-r requirements.txt (line 4)) (2.22)\n",
      "Requirement already satisfied: gitdb<5,>=4.0.1 in /opt/conda/lib/python3.10/site-packages (from gitpython>3->scmrepo<4,>=3.5.2->dvc->dvc-gs->-r requirements.txt (line 4)) (4.0.12)\n",
      "Requirement already satisfied: smmap<6,>=3.0.1 in /opt/conda/lib/python3.10/site-packages (from gitdb<5,>=4.0.1->gitpython>3->scmrepo<4,>=3.5.2->dvc->dvc-gs->-r requirements.txt (line 4)) (5.0.2)\n",
      "Requirement already satisfied: antlr4-python3-runtime==4.9.* in /opt/conda/lib/python3.10/site-packages (from hydra-core>=1.1->dvc->dvc-gs->-r requirements.txt (line 4)) (4.9.3)\n",
      "Requirement already satisfied: PyYAML>=5.1.0 in /opt/conda/lib/python3.10/site-packages (from omegaconf->dvc->dvc-gs->-r requirements.txt (line 4)) (6.0.2)\n",
      "Requirement already satisfied: appdirs in /opt/conda/lib/python3.10/site-packages (from iterative-telemetry>=0.0.7->dvc->dvc-gs->-r requirements.txt (line 4)) (1.4.4)\n",
      "Requirement already satisfied: filelock in /opt/conda/lib/python3.10/site-packages (from iterative-telemetry>=0.0.7->dvc->dvc-gs->-r requirements.txt (line 4)) (3.19.1)\n",
      "Requirement already satisfied: wcwidth in /opt/conda/lib/python3.10/site-packages (from prompt-toolkit>=3.0.36->click-repl>=0.2.0->celery->dvc->dvc-gs->-r requirements.txt (line 4)) (0.2.13)\n",
      "Requirement already satisfied: markdown-it-py>=2.2.0 in /opt/conda/lib/python3.10/site-packages (from rich>=12->dvc->dvc-gs->-r requirements.txt (line 4)) (4.0.0)\n",
      "Requirement already satisfied: mdurl~=0.1 in /opt/conda/lib/python3.10/site-packages (from markdown-it-py>=2.2.0->rich>=12->dvc->dvc-gs->-r requirements.txt (line 4)) (0.1.2)\n",
      "Requirement already satisfied: ruamel.yaml.clib>=0.2.7 in /opt/conda/lib/python3.10/site-packages (from ruamel.yaml>=0.17.11->dvc->dvc-gs->-r requirements.txt (line 4)) (0.2.12)\n",
      "Requirement already satisfied: shellingham>=1.3.0 in /opt/conda/lib/python3.10/site-packages (from typer>=0.4.1->gto<2,>=1.6.0->dvc->dvc-gs->-r requirements.txt (line 4)) (1.5.4)\n",
      "Requirement already satisfied: setuptools in /opt/conda/lib/python3.10/site-packages (from zc.lockfile>=1.2.1->dvc->dvc-gs->-r requirements.txt (line 4)) (80.9.0)\n",
      "Requirement already satisfied: requests-oauthlib>=0.7.0 in /opt/conda/lib/python3.10/site-packages (from google-auth-oauthlib->gcsfs>=2022.11.0->dvc-gs->-r requirements.txt (line 4)) (2.0.0)\n",
      "Requirement already satisfied: oauthlib>=3.0.0 in /opt/conda/lib/python3.10/site-packages (from requests-oauthlib>=0.7.0->google-auth-oauthlib->gcsfs>=2022.11.0->dvc-gs->-r requirements.txt (line 4)) (3.3.1)\n"
     ]
    }
   ],
   "source": [
    "# Install dependencies from requirements.txt\n",
    "!pip3 install -r requirements.txt"
   ]
  },
  {
   "cell_type": "code",
   "execution_count": 2,
   "id": "8e6b85db",
   "metadata": {
    "tags": []
   },
   "outputs": [
    {
     "name": "stdout",
     "output_type": "stream",
     "text": [
      "\u001b[33mhint: Using 'master' as the name for the initial branch. This default branch name\u001b[m\n",
      "\u001b[33mhint: is subject to change. To configure the initial branch name to use in all\u001b[m\n",
      "\u001b[33mhint: of your new repositories, which will suppress this warning, call:\u001b[m\n",
      "\u001b[33mhint: \u001b[m\n",
      "\u001b[33mhint: \tgit config --global init.defaultBranch <name>\u001b[m\n",
      "\u001b[33mhint: \u001b[m\n",
      "\u001b[33mhint: Names commonly chosen instead of 'master' are 'main', 'trunk' and\u001b[m\n",
      "\u001b[33mhint: 'development'. The just-created branch can be renamed via this command:\u001b[m\n",
      "\u001b[33mhint: \u001b[m\n",
      "\u001b[33mhint: \tgit branch -m <name>\u001b[m\n",
      "Initialized empty Git repository in /home/jupyter/week_4/.git/\n",
      "Initialized DVC repository.\n",
      "\n",
      "You can now commit the changes to git.\n",
      "\n",
      "\u001b[31m+---------------------------------------------------------------------+\n",
      "\u001b[0m\u001b[31m|\u001b[0m                                                                     \u001b[31m|\u001b[0m\n",
      "\u001b[31m|\u001b[0m        DVC has enabled anonymous aggregate usage analytics.         \u001b[31m|\u001b[0m\n",
      "\u001b[31m|\u001b[0m     Read the analytics documentation (and how to opt-out) here:     \u001b[31m|\u001b[0m\n",
      "\u001b[31m|\u001b[0m             <\u001b[36mhttps://dvc.org/doc/user-guide/analytics\u001b[39m>              \u001b[31m|\u001b[0m\n",
      "\u001b[31m|\u001b[0m                                                                     \u001b[31m|\u001b[0m\n",
      "\u001b[31m+---------------------------------------------------------------------+\n",
      "\u001b[0m\n",
      "\u001b[33mWhat's next?\u001b[39m\n",
      "\u001b[33m------------\u001b[39m\n",
      "- Check out the documentation: <\u001b[36mhttps://dvc.org/doc\u001b[39m>\n",
      "- Get help and share ideas: <\u001b[36mhttps://dvc.org/chat\u001b[39m>\n",
      "- Star us on GitHub: <\u001b[36mhttps://github.com/iterative/dvc\u001b[39m>\n",
      "\u001b[0m"
     ]
    }
   ],
   "source": [
    "# Initialize Git and DVC repositories\n",
    "!git init\n",
    "!dvc init"
   ]
  },
  {
   "cell_type": "code",
   "execution_count": null,
   "id": "16611d35-195b-4dfc-9bf5-da52568baf22",
   "metadata": {
    "tags": []
   },
   "outputs": [],
   "source": [
    "%%writefile .gitignore\n",
    ".venv/\n",
    "__pycache__/\n",
    "*.pyc\n",
    ".vscode/\n",
    ".ipynb_checkpoints/\n",
    ".env\n",
    "gcloud-creds.json\n",
    ".DS_Store"
   ]
  },
  {
   "cell_type": "code",
   "execution_count": 3,
   "id": "6e69bfba",
   "metadata": {
    "tags": []
   },
   "outputs": [
    {
     "name": "stdout",
     "output_type": "stream",
     "text": [
      "Setting 'gcp-store' as a default remote.\n",
      "\u001b[0m"
     ]
    }
   ],
   "source": [
    "# Configure DVC to use Google Cloud Storage as remote storage\n",
    "BUCKET_NAME=\"mlops-course-week1-001\"\n",
    "!dvc remote add -d gcp-store gs://$BUCKET_NAME/dvc_store"
   ]
  },
  {
   "cell_type": "code",
   "execution_count": 4,
   "id": "07f5db43",
   "metadata": {
    "tags": []
   },
   "outputs": [
    {
     "name": "stdout",
     "output_type": "stream",
     "text": [
      "Activated service account credentials for: [github-actions-bot@buoyant-country-473106-a3.iam.gserviceaccount.com]\n",
      "\n",
      "\n",
      "To take a quick anonymous survey, run:\n",
      "  $ gcloud survey\n",
      "\n"
     ]
    }
   ],
   "source": [
    "# Authenticate with Google Cloud\n",
    "PATH_TO_CREDENTIALS=\"gcloud-creds.json\"\n",
    "!gcloud auth activate-service-account --key-file=$PATH_TO_CREDENTIALS"
   ]
  },
  {
   "cell_type": "code",
   "execution_count": 5,
   "id": "d3435348-9375-49ca-93d1-ab64cf2458a4",
   "metadata": {
    "tags": []
   },
   "outputs": [
    {
     "name": "stdout",
     "output_type": "stream",
     "text": [
      "[master (root-commit) 833bf99] Initial commit: Setup project with DVC and Git\n",
      " 6 files changed, 543 insertions(+)\n",
      " create mode 100644 .dvc/.gitignore\n",
      " create mode 100644 .dvc/config\n",
      " create mode 100644 .dvcignore\n",
      " create mode 100644 .gitignore\n",
      " create mode 100644 requirements.txt\n",
      " create mode 100644 setup.ipynb\n"
     ]
    }
   ],
   "source": [
    "# Commit Initial setup and DVC remote configuration to Git\n",
    "!git add .dvc/config .gitignore requirements.txt setup.ipynb\n",
    "!git commit -m \"Initial commit: Setup project with DVC and Git\""
   ]
  },
  {
   "cell_type": "code",
   "execution_count": 6,
   "id": "fbdf7272-611a-4e28-aa3f-6d43e365abde",
   "metadata": {
    "tags": []
   },
   "outputs": [
    {
     "name": "stdout",
     "output_type": "stream",
     "text": [
      "--2025-10-19 16:17:54--  https://github.com/IITMBSMLOps/ga_resources/blob/week_1/data/raw/iris.csv?raw=true\n",
      "Resolving github.com (github.com)... 140.82.114.4\n",
      "Connecting to github.com (github.com)|140.82.114.4|:443... connected.\n",
      "HTTP request sent, awaiting response... 302 Found\n",
      "Location: https://github.com/IITMBSMLOps/ga_resources/raw/refs/heads/week_1/data/raw/iris.csv [following]\n",
      "--2025-10-19 16:17:55--  https://github.com/IITMBSMLOps/ga_resources/raw/refs/heads/week_1/data/raw/iris.csv\n",
      "Reusing existing connection to github.com:443.\n",
      "HTTP request sent, awaiting response... 302 Found\n",
      "Location: https://raw.githubusercontent.com/IITMBSMLOps/ga_resources/refs/heads/week_1/data/raw/iris.csv [following]\n",
      "--2025-10-19 16:17:55--  https://raw.githubusercontent.com/IITMBSMLOps/ga_resources/refs/heads/week_1/data/raw/iris.csv\n",
      "Resolving raw.githubusercontent.com (raw.githubusercontent.com)... 185.199.111.133, 185.199.108.133, 185.199.109.133, ...\n",
      "Connecting to raw.githubusercontent.com (raw.githubusercontent.com)|185.199.111.133|:443... connected.\n",
      "HTTP request sent, awaiting response... 200 OK\n",
      "Length: 3861 (3.8K) [text/plain]\n",
      "Saving to: ‘data.csv’\n",
      "\n",
      "data.csv            100%[===================>]   3.77K  --.-KB/s    in 0s      \n",
      "\n",
      "2025-10-19 16:17:55 (39.7 MB/s) - ‘data.csv’ saved [3861/3861]\n",
      "\n"
     ]
    }
   ],
   "source": [
    "# Download dataset file\n",
    "!wget -O data.csv \"https://github.com/IITMBSMLOps/ga_resources/blob/week_1/data/raw/iris.csv?raw=true\""
   ]
  },
  {
   "cell_type": "code",
   "execution_count": 7,
   "id": "29428e5b-d88d-4de7-bab7-571a064c2679",
   "metadata": {
    "tags": []
   },
   "outputs": [
    {
     "name": "stdout",
     "output_type": "stream",
     "text": [
      "Python version: 3.10.18 | packaged by conda-forge | (main, Jun  4 2025, 14:45:41) [GCC 13.3.0]\n",
      "Data read successfully.\n",
      "Data split into train and test sets.\n",
      "Training Decision Tree model...\n",
      "Model trained successfully.\n",
      "The accuracy of the Decision Tree is 0.983\n",
      "Saving the model to model.joblib...\n",
      "Model saved successfully.\n"
     ]
    }
   ],
   "source": [
    "# Train and save the model\n",
    "!python3 train.py"
   ]
  },
  {
   "cell_type": "code",
   "execution_count": 8,
   "id": "5717d1c3-3ec7-434a-be66-3c55ae133b14",
   "metadata": {
    "tags": []
   },
   "outputs": [
    {
     "name": "stdout",
     "output_type": "stream",
     "text": [
      " \u001b[?25l\u001b[32m⠋\u001b[0m Checking graph\n",
      "  0% Adding...|                           | data.csv |0/2 [00:00<?,     ?file/s]\n",
      "!\u001b[A\n",
      "Collecting files and computing hashes in data.csv     |0.00 [00:00,     ?file/s]\u001b[A\n",
      "                                                                                \u001b[A\n",
      "!\u001b[A\n",
      "  0% Checking cache in '/home/jupyter/week_4/.dvc/cache/files/md5'| |0/? [00:00<\u001b[A\n",
      "                                                                                \u001b[A\n",
      "!\u001b[A\n",
      "  0%|          |Adding data.csv to cache              0/1 [00:00<?,     ?file/s]\u001b[A\n",
      "                                                                                \u001b[A\n",
      "!\u001b[A\n",
      "  0%|          |Checking out /home/jupyter/week_4/data0/1 [00:00<?,    ?files/s]\u001b[A\n",
      "  0% Adding...|                       | model.joblib |0/2 [00:00<?,     ?file/s]\u001b[A\n",
      "!\u001b[A\n",
      "Collecting files and computing hashes in model.joblib |0.00 [00:00,     ?file/s]\u001b[A\n",
      "                                                                                \u001b[A\n",
      "!\u001b[A\n",
      "  0% Checking cache in '/home/jupyter/week_4/.dvc/cache/files/md5'| |0/? [00:00<\u001b[A\n",
      "                                                                                \u001b[A\n",
      "!\u001b[A\n",
      "  0%|          |Adding model.joblib to cache          0/1 [00:00<?,     ?file/s]\u001b[A\n",
      "                                                                                \u001b[A\n",
      "!\u001b[A\n",
      "  0%|          |Checking out /home/jupyter/week_4/mode0/1 [00:00<?,    ?files/s]\u001b[A\n",
      "100% Adding...|████████████████████████████████████████|2/2 [00:00, 24.68file/s]\u001b[A\n",
      "\n",
      "To track the changes with git, run:\n",
      "\n",
      "\tgit add .gitignore data.csv.dvc model.joblib.dvc\n",
      "\n",
      "To enable auto staging, run:\n",
      "\n",
      "\tdvc config core.autostage true\n",
      "\u001b[0m[master 8e67608] feat: Track dataset and model with DVC\n",
      " 3 files changed, 13 insertions(+), 1 deletion(-)\n",
      " create mode 100644 data.csv.dvc\n",
      " create mode 100644 model.joblib.dvc\n"
     ]
    }
   ],
   "source": [
    "# Track the model files and artifacts via DVC\n",
    "!dvc add data.csv model.joblib\n",
    "\n",
    "# Track the code files via git\n",
    "!git add data.csv.dvc model.joblib.dvc .gitignore\n",
    "!git commit -m \"feat: Track dataset and model with DVC\""
   ]
  },
  {
   "cell_type": "code",
   "execution_count": 9,
   "id": "a0f0b55c-3838-4cfc-adb4-7dd8dbe1a343",
   "metadata": {
    "tags": []
   },
   "outputs": [
    {
     "name": "stdout",
     "output_type": "stream",
     "text": [
      "Collecting                                            |2.00 [00:00,  108entry/s]\n",
      "Pushing\n",
      "!\u001b[A\n",
      "  0% Checking cache in 'mlops-course-week1-001/dvc_store/files/md5'| |0/? [00:00\u001b[A\n",
      " 50% Querying cache in 'mlops-course-week1-001/dvc_store/files/md5'|▌|1/2 [00:01\u001b[A\n",
      "Pushing                                                                         \u001b[A\n",
      "Everything is up to date.\n",
      "\u001b[0m"
     ]
    }
   ],
   "source": [
    "# Push files and artifacts to google cloud storage via DVC\n",
    "!dvc push"
   ]
  },
  {
   "cell_type": "code",
   "execution_count": 10,
   "id": "8a817b7e-b4cf-46af-b18b-db1096c35ee1",
   "metadata": {
    "tags": []
   },
   "outputs": [],
   "source": [
    "# Add Git remote and set main branch\n",
    "!git remote add origin https://github.com/mayank160920/iris-mlops-ci-3.git\n",
    "!git branch -M main\n",
    "# git push -u origin main"
   ]
  },
  {
   "cell_type": "code",
   "execution_count": 11,
   "id": "43884e2a-34aa-4d92-9f34-3185b6d182a2",
   "metadata": {
    "tags": []
   },
   "outputs": [],
   "source": [
    "# Create GitHub Actions workflow directory\n",
    "!mkdir -p .github/workflows"
   ]
  },
  {
   "cell_type": "code",
   "execution_count": null,
   "id": "b3f43f6f-cc1a-40e1-83df-fd155b8638c0",
   "metadata": {
    "tags": []
   },
   "outputs": [
    {
     "name": "stdout",
     "output_type": "stream",
     "text": [
      "Overwriting .github/workflows/ci.yml\n"
     ]
    }
   ],
   "source": [
    "%%writefile .github/workflows/ci.yml\n",
    "name: MLOps CI Pipeline\n",
    "\n",
    "on:\n",
    "  push:\n",
    "    branches: [dev]\n",
    "  pull_request:\n",
    "    branches: [main]\n",
    "\n",
    "permissions:\n",
    "  contents: write\n",
    "  pull-requests: write\n",
    "\n",
    "jobs:\n",
    "  test-and-report:\n",
    "    runs-on: ubuntu-latest\n",
    "    steps:\n",
    "      - name: Checkout code\n",
    "        uses: actions/checkout@v3\n",
    "\n",
    "      - name: Set up Python\n",
    "        uses: actions/setup-python@v4\n",
    "        with:\n",
    "          python-version: '3.9'\n",
    "\n",
    "      - name: Upgrade pip\n",
    "        run: python -m pip install --upgrade pip\n",
    "\n",
    "      - name: Install core dependencies\n",
    "        run: |\n",
    "          pip install -r requirements.txt\n",
    "\n",
    "      - name: Run CML\n",
    "        uses: iterative/setup-cml@v2\n",
    "\n",
    "      - name: Authenticate with Google Cloud\n",
    "        uses: google-github-actions/auth@v1\n",
    "        with:\n",
    "          credentials_json: '${{ secrets.GCP_SA_KEY }}'\n",
    "\n",
    "      - name: Pull artifacts from DVC\n",
    "        run: dvc pull\n",
    "\n",
    "      - name: Run Pytest and Save Report\n",
    "        run: pytest --maxfail=1 --disable-warnings -q > report.txt\n",
    "\n",
    "      - name: Create CML report on Pull Request\n",
    "        if: github.event_name == 'pull_request'\n",
    "        env:\n",
    "          repo_token: ${{ secrets.GITHUB_TOKEN }}\n",
    "        run: |\n",
    "          echo \"## ✅ MLOps CI Report\" > cml_report.md\n",
    "          echo \"**Branch:** ${{ github.head_ref }}\" >> cml_report.md\n",
    "          echo \"**Commit:** \\`${{ github.sha }}\\`\" >> cml_report.md\n",
    "          echo \"\" >> cml_report.md\n",
    "          echo \"### 🧪 Test Summary\" >> cml_report.md\n",
    "          cat report.txt >> cml_report.md\n",
    "          echo \"\" >> cml_report.md\n",
    "          echo \"---\" >> cml_report.md\n",
    "          echo \"_Generated automatically by CML_\" >> cml_report.md\n",
    "          cml comment create cml_report.md"
   ]
  },
  {
   "cell_type": "code",
   "execution_count": null,
   "id": "e42c1328-347d-4248-b97b-2f9283a080b7",
   "metadata": {
    "tags": []
   },
   "outputs": [],
   "source": [
    "# Commit tests, requirements, and CI workflow to Git and push to dev branch\n",
    "!git add .\n",
    "!git commit -m \"feat: Add tests, requirements, and CI workflow\"\n",
    "!git checkout -b dev  # Create and switch to the dev branch"
   ]
  },
  {
   "cell_type": "code",
   "execution_count": null,
   "id": "bfc1c514-4da4-487e-9e56-7bfbdf61aabf",
   "metadata": {},
   "outputs": [],
   "source": [
    "!git push -u origin dev"
   ]
  }
 ],
 "metadata": {
  "environment": {
   "kernel": "conda-base-py",
   "name": "workbench-notebooks.m133",
   "type": "gcloud",
   "uri": "us-docker.pkg.dev/deeplearning-platform-release/gcr.io/workbench-notebooks:m133"
  },
  "kernelspec": {
   "display_name": "Python 3 (ipykernel)",
   "language": "python",
   "name": "conda-base-py"
  },
  "language_info": {
   "codemirror_mode": {
    "name": "ipython",
    "version": 3
   },
   "file_extension": ".py",
   "mimetype": "text/x-python",
   "name": "python",
   "nbconvert_exporter": "python",
   "pygments_lexer": "ipython3",
   "version": "3.10.18"
  }
 },
 "nbformat": 4,
 "nbformat_minor": 5
}
