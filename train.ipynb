{
 "cells": [
  {
   "cell_type": "code",
   "execution_count": null,
   "id": "9e3b87a9",
   "metadata": {},
   "outputs": [],
   "source": [
    "import pandas as pd\n",
    "from sklearn.tree import DecisionTreeClassifier\n",
    "from sklearn.model_selection import train_test_split\n",
    "from sklearn.metrics import accuracy_score, precision_score, recall_score, f1_score\n",
    "\n",
    "import mlflow\n",
    "from mlflow.models import infer_signature"
   ]
  },
  {
   "cell_type": "code",
   "execution_count": null,
   "id": "fecc4c71",
   "metadata": {},
   "outputs": [],
   "source": [
    "DATASET_URI = \"data.csv\"\n",
    "data = pd.read_csv(DATASET_URI)\n",
    "data.head()"
   ]
  },
  {
   "cell_type": "code",
   "execution_count": null,
   "id": "fcbf25bd",
   "metadata": {},
   "outputs": [],
   "source": [
    "train, test = train_test_split(data, test_size = 0.4, stratify = data['species'], random_state = 42)\n",
    "X_train = train[['sepal_length','sepal_width','petal_length','petal_width']]\n",
    "y_train = train.species\n",
    "X_test = test[['sepal_length','sepal_width','petal_length','petal_width']]\n",
    "y_test = test.species"
   ]
  },
  {
   "cell_type": "code",
   "execution_count": null,
   "id": "86080073",
   "metadata": {},
   "outputs": [],
   "source": [
    "MLFLOW_TRACKING_URI = \"http://127.0.0.1:5000\"\n",
    "mlflow.set_tracking_uri(MLFLOW_TRACKING_URI)"
   ]
  },
  {
   "cell_type": "code",
   "execution_count": null,
   "id": "9f5355fb",
   "metadata": {},
   "outputs": [],
   "source": [
    "MLFLOW_EXPERIMENT_NAME = \"Iris Species Classification\"\n",
    "mlflow.set_experiment(MLFLOW_EXPERIMENT_NAME)"
   ]
  },
  {
   "cell_type": "code",
   "execution_count": null,
   "id": "8e80d6e0",
   "metadata": {},
   "outputs": [],
   "source": [
    "def execute_training_pipeline(hyperparams, X_train, y_train, X_test, y_test):\n",
    "    \"\"\"\n",
    "    Execute the training pipeline: train and evaluate the model. Log parameters, metrics, and model to MLflow.\n",
    "    Args:\n",
    "        hyperparams (dict): Hyperparameters for the DecisionTreeClassifier.\n",
    "        X_train (pd.DataFrame): Training features.\n",
    "        y_train (pd.Series): Training labels.\n",
    "        X_test (pd.DataFrame): Testing features.\n",
    "        y_test (pd.Series): Testing labels.\n",
    "    Returns:\n",
    "        None\n",
    "    \"\"\"\n",
    "\n",
    "    # Train model\n",
    "    model = DecisionTreeClassifier(**hyperparams)\n",
    "    model.fit(X_train, y_train)\n",
    "\n",
    "    # Evaluate model\n",
    "    y_pred = model.predict(X_test)\n",
    "    accuracy = accuracy_score(y_test, y_pred)\n",
    "    precision = precision_score(y_test, y_pred, average='macro')\n",
    "    recall = recall_score(y_test, y_pred, average='macro')\n",
    "    f1 = f1_score(y_test, y_pred, average='macro')\n",
    "\n",
    "    metrics_dict = {\n",
    "        \"accuracy\": accuracy,\n",
    "        \"precision\": precision,\n",
    "        \"recall\": recall,\n",
    "        \"f1_score\": f1\n",
    "    }\n",
    "\n",
    "    # Log parameters, metrics, and model to MLflow\n",
    "    with mlflow.start_run():\n",
    "        mlflow.log_params(hyperparams)\n",
    "        mlflow.log_metrics(metrics_dict)\n",
    "        mlflow.sklearn.log_model(\n",
    "            sk_model=model,\n",
    "            name=\"decision_tree_model\",\n",
    "            signature=infer_signature(X_train, model.predict(X_train)),\n",
    "            registered_model_name=\"IrisDecisionTreeModel\",\n",
    "        )\n",
    "    \n",
    "    print(\"Training pipeline executed and logged to MLflow.\")\n"
   ]
  },
  {
   "cell_type": "code",
   "execution_count": null,
   "id": "086c09dd",
   "metadata": {},
   "outputs": [],
   "source": [
    "hyperparams_v1 = {\n",
    "    \"criterion\": \"gini\",\n",
    "    \"max_depth\": 3,\n",
    "    \"min_samples_split\": 3,\n",
    "    \"min_samples_leaf\": 1\n",
    "}\n",
    "execute_training_pipeline(hyperparams_v1, X_train, y_train, X_test, y_test)"
   ]
  },
  {
   "cell_type": "code",
   "execution_count": null,
   "id": "4d6bb8e4",
   "metadata": {},
   "outputs": [],
   "source": [
    "hyperparams_v2 = {\n",
    "    \"criterion\": \"gini\",\n",
    "    \"max_depth\": 5,\n",
    "    \"min_samples_split\": 3,\n",
    "    \"min_samples_leaf\": 1\n",
    "}\n",
    "execute_training_pipeline(hyperparams_v2, X_train, y_train, X_test, y_test)"
   ]
  },
  {
   "cell_type": "code",
   "execution_count": null,
   "id": "e6278fd3",
   "metadata": {},
   "outputs": [],
   "source": [
    "hyperparams_v3 = {\n",
    "    \"criterion\": \"gini\",\n",
    "    \"max_depth\": 8,\n",
    "    \"min_samples_split\": 3,\n",
    "    \"min_samples_leaf\": 1\n",
    "}\n",
    "execute_training_pipeline(hyperparams_v3, X_train, y_train, X_test, y_test)"
   ]
  }
 ],
 "metadata": {
  "kernelspec": {
   "display_name": ".venv",
   "language": "python",
   "name": "python3"
  },
  "language_info": {
   "codemirror_mode": {
    "name": "ipython",
    "version": 3
   },
   "file_extension": ".py",
   "mimetype": "text/x-python",
   "name": "python",
   "nbconvert_exporter": "python",
   "pygments_lexer": "ipython3",
   "version": "3.13.5"
  }
 },
 "nbformat": 4,
 "nbformat_minor": 5
}
